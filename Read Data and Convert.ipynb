{
 "cells": [
  {
   "cell_type": "code",
   "execution_count": 1,
   "id": "17748e6f-6c4e-413f-b172-86834230db3b",
   "metadata": {},
   "outputs": [],
   "source": [
    "import pandas as pd\n",
    "from sklearn.model_selection import train_test_split\n",
    "from tensorflow.keras.utils import to_categorical"
   ]
  },
  {
   "cell_type": "code",
   "execution_count": 2,
   "id": "8de3e01a-deee-4abe-b56c-5d94cb77139c",
   "metadata": {},
   "outputs": [],
   "source": [
    "first = pd.read_json('PROCESSED_VIDEO_DATA.json',orient='index')"
   ]
  },
  {
   "cell_type": "code",
   "execution_count": 3,
   "id": "05ba1163-ea3f-403e-85a9-24e439518b87",
   "metadata": {},
   "outputs": [],
   "source": [
    "second = pd.read_json('PROCESSED_VIDEO_DATA1.json',orient='index')"
   ]
  },
  {
   "cell_type": "code",
   "execution_count": 4,
   "id": "80014586-b9fc-4520-b2aa-cec9bd4ae991",
   "metadata": {},
   "outputs": [],
   "source": [
    "def get_removed_index_from_landmarks(right_hand,left_hand):\n",
    "    removed_indexes = []\n",
    "    for i in range(len(right_hand)):\n",
    "        if(len(right_hand) - len(removed_indexes) <=60):\n",
    "            break\n",
    "        if(right_hand[i] == None and left_hand[i] == None):\n",
    "            removed_indexes.append(i)\n",
    "    return removed_indexes\n",
    "\n",
    "def get_removed_index_from_world_landmarks(right_hand,left_hand):\n",
    "    removed_indexes = []\n",
    "    # print(len(right_hand))\n",
    "    for i in range(len(right_hand)):\n",
    "        \n",
    "        if(len(right_hand) - len(removed_indexes) <=60):\n",
    "            break\n",
    "        # print(i,right_hand[i][0] == None and left_hand[i][0] == None)\n",
    "        if(right_hand[i][0] == None and left_hand[i][0] == None):\n",
    "            removed_indexes.append(i)\n",
    "    return removed_indexes\n",
    "\n",
    "def convert_to_60_frames(data):\n",
    "    for item in data.iterrows():\n",
    "        # remove_indexes = get_removed_index_from_landmarks(item[1].RIGHT_HAND_LANDMARKS,item[1].LEFT_HAND_LANDMARKS)\n",
    "        # print(item)\n",
    "        world_remove_indexes = get_removed_index_from_world_landmarks(item[1].RIGHT_HAND_WORLD_LANDMARKS,item[1].LEFT_HAND_WORLD_LANDMARKS)\n",
    "\n",
    "        if(len(item[1].RIGHT_HAND_WORLD_LANDMARKS)<60):\n",
    "            current_length = len(item[1].RIGHT_HAND_WORLD_LANDMARKS)\n",
    "            for i in range(current_length,60):\n",
    "                item[1].RIGHT_HAND_WORLD_LANDMARKS.append([None])\n",
    "                item[1].LEFT_HAND_WORLD_LANDMARKS.append([None])\n",
    "                item[1].POSE_WORLD_LANDMARKS.append([None])\n",
    "\n",
    "        \n",
    "        for index in sorted(world_remove_indexes, reverse=True):\n",
    "            del item[1].RIGHT_HAND_WORLD_LANDMARKS[index]\n",
    "            del item[1].LEFT_HAND_WORLD_LANDMARKS[index]\n",
    "            del item[1].POSE_WORLD_LANDMARKS[index]\n",
    "            \n",
    "        if(len(item[1].RIGHT_HAND_WORLD_LANDMARKS)>60):\n",
    "            del item[1].RIGHT_HAND_WORLD_LANDMARKS[60:]\n",
    "            del item[1].LEFT_HAND_WORLD_LANDMARKS[60:]\n",
    "            del item[1].POSE_WORLD_LANDMARKS[60:]\n",
    "            \n",
    "convert_to_60_frames(first)\n",
    "convert_to_60_frames(second)"
   ]
  },
  {
   "cell_type": "code",
   "execution_count": 5,
   "id": "0a0528fa-8729-4cfc-89ca-d41a4c067a32",
   "metadata": {},
   "outputs": [],
   "source": [
    "#Loop throug data\n",
    "sequences = []\n",
    "labels = []\n",
    "import numpy as np\n",
    "def extract_keypoints(pose_world_landmarks,right_hand_world_landmarks,left_hand_world_landmarks):\n",
    "    pose = np.array([[res['X'], res['Y']] for res in pose_world_landmarks]).flatten() if pose_world_landmarks[0] else np.zeros(12*2)\n",
    "    lh = np.array([[res['X'], res['Y'], res['Z']] for res in left_hand_world_landmarks ]).flatten() if left_hand_world_landmarks[0] else np.zeros(21*3)\n",
    "    rh = np.array([[res['X'], res['Y'], res['Z']] for res in right_hand_world_landmarks ]).flatten() if right_hand_world_landmarks[0] else np.zeros(21*3)\n",
    "    return np.concatenate([pose, lh, rh])\n",
    "\n",
    "def convert_world_to_2d_array(data):\n",
    "    k = 0;\n",
    "    for item in data.iterrows():\n",
    "        sequence = []\n",
    "        labels.append(item[1].Label)\n",
    "        for i in range(len(item[1].RIGHT_HAND_WORLD_LANDMARKS)):    \n",
    "            pose_world = item[1].POSE_WORLD_LANDMARKS[i];\n",
    "            if pose_world == None:\n",
    "                pose_world = [None]\n",
    "            points = extract_keypoints(pose_world,item[1].RIGHT_HAND_WORLD_LANDMARKS[i],item[1].LEFT_HAND_WORLD_LANDMARKS[i])\n",
    "            sequence.append(points)\n",
    "        sequences.append(sequence)\n",
    "        k= k+1\n",
    "convert_world_to_2d_array(first)\n",
    "convert_world_to_2d_array(second)\n",
    "\n"
   ]
  },
  {
   "cell_type": "code",
   "execution_count": 10,
   "id": "3d7bbcd2-1f76-492f-8e17-8ada9e6d6ecc",
   "metadata": {},
   "outputs": [],
   "source": [
    "\n",
    "X = np.array(sequences)\n",
    "words = np.array(labels).reshape(-1,1)\n",
    "Y = OneHotEncoder().fit_transform(words).toarray()\n"
   ]
  },
  {
   "cell_type": "code",
   "execution_count": 14,
   "id": "27e8d6f7-7ea5-4817-b057-f9ed7ccf6dd3",
   "metadata": {},
   "outputs": [],
   "source": [
    "with open('DATA1.npy', 'wb') as f:\n",
    "    np.save(f, X)\n",
    "    \n",
    "with open('LABELS1.npy', 'wb') as f:\n",
    "    np.save(f, words)\n",
    "    \n",
    "    "
   ]
  },
  {
   "cell_type": "code",
   "execution_count": 23,
   "id": "921479a8-b712-4707-bc76-452e104d407f",
   "metadata": {},
   "outputs": [
    {
     "data": {
      "text/plain": [
       "((5000, 60, 150), (5000, 1))"
      ]
     },
     "execution_count": 23,
     "metadata": {},
     "output_type": "execute_result"
    }
   ],
   "source": [
    "np1 = np.load(\"DATA1.npy\")\n",
    "labels = np.load(\"LABELS1.npy\")\n",
    "np1.shape,labels.shape"
   ]
  },
  {
   "cell_type": "code",
   "execution_count": 51,
   "id": "b7f4f37d-aadd-4dee-bc60-6fca5036fc02",
   "metadata": {},
   "outputs": [],
   "source": [
    "X_train, X_test , y_train, y_test = train_test_split(X, Y, test_size=0.2, random_state=69,stratify=Y)"
   ]
  },
  {
   "cell_type": "code",
   "execution_count": 52,
   "id": "d1997203-801b-46e2-bb6d-4d4449cb32a9",
   "metadata": {},
   "outputs": [],
   "source": [
    "from tensorflow.keras.models import Sequential\n",
    "from tensorflow.keras.layers import LSTM, Dense\n",
    "from tensorflow.keras.callbacks import TensorBoard\n",
    "import os\n",
    "import tensorflow as tf\n",
    "from numpy.random import seed\n",
    "from tensorflow.keras import regularizers\n",
    "\n",
    "\n",
    "\n",
    "\n",
    "log_dir = os.path.join('Logs')\n",
    "tb_callback = TensorBoard(log_dir=log_dir)"
   ]
  },
  {
   "cell_type": "code",
   "execution_count": 53,
   "id": "e6bec20f-2059-4154-ae38-4495c32eb205",
   "metadata": {},
   "outputs": [],
   "source": [
    "seed(69)\n",
    "tf.random.set_seed(69)\n",
    "model = Sequential()\n",
    "model.add(LSTM(64, return_sequences=True, activation='relu', input_shape=(60,150)))\n",
    "model.add(LSTM(128, return_sequences=True, activation='relu'))\n",
    "model.add(LSTM(64, return_sequences=False, activation='relu'))\n",
    "\n",
    "model.add(Dense(64, activation='relu'))\n",
    "model.add(Dense(32, activation='relu'))\n",
    "model.add(Dense(Y.shape[1], activation='softmax'))"
   ]
  },
  {
   "cell_type": "code",
   "execution_count": 54,
   "id": "536324e1-0d61-47fe-83b2-2e9e780be6a6",
   "metadata": {},
   "outputs": [],
   "source": [
    "model.compile(loss='categorical_crossentropy', metrics=['accuracy'])"
   ]
  },
  {
   "cell_type": "code",
   "execution_count": 55,
   "id": "408dc267-431c-490d-b6b6-9b3994b8432f",
   "metadata": {},
   "outputs": [],
   "source": [
    "history = model.fit(X_train, y_train, epochs=2000,validation_split = 0.2,verbose = 0)"
   ]
  },
  {
   "cell_type": "code",
   "execution_count": 56,
   "id": "41c7c6b2-57bb-487c-ae66-b4f4a774e6f5",
   "metadata": {},
   "outputs": [
    {
     "data": {
      "image/png": "[encoded data removed]",
      "text/plain": [
       "<Figure size 640x480 with 1 Axes>"
      ]
     },
     "metadata": {},
     "output_type": "display_data"
    }
   ],
   "source": [
    "import matplotlib.pyplot as plt\n",
    "\n",
    "plt.figure()\n",
    "plt.title(\"Learning curves\")\n",
    "plt.xlabel(\"Epoch\")\n",
    "plt.ylabel(\"loss\")\n",
    "plt.plot(history.history['loss'], label = 'train')\n",
    "plt.plot(history.history['val_loss'], label = 'valid')\n",
    "plt.legend()\n",
    "plt.show()"
   ]
  },
  {
   "cell_type": "code",
   "execution_count": 43,
   "id": "7fe8a28e-2ca5-4f64-9d3b-18b51326559b",
   "metadata": {},
   "outputs": [
    {
     "name": "stdout",
     "output_type": "stream",
     "text": [
      "1/1 [==============================] - 0s 51ms/step - loss: 0.6939 - accuracy: 0.9677\n",
      "Accuracy on training data: [0.6938652396202087, 0.9677419066429138]\n",
      "1/1 [==============================] - 0s 32ms/step - loss: 0.0000e+00 - accuracy: 1.0000\n",
      "Accuracy on test data: [0.0, 1.0]\n"
     ]
    }
   ],
   "source": [
    "print(\"Accuracy on training data: {}\".format(model.evaluate(X_train, y_train)))\n",
    "print(\"Accuracy on test data: {}\".format(model.evaluate(X_test, y_test)))"
   ]
  },
  {
   "cell_type": "code",
   "execution_count": null,
   "id": "52d67a1b-9856-40db-a920-8e7d0eeceb9d",
   "metadata": {},
   "outputs": [],
   "source": []
  }
 ],
 "metadata": {
  "kernelspec": {
   "display_name": "Python 3 (ipykernel)",
   "language": "python",
   "name": "python3"
  },
  "language_info": {
   "codemirror_mode": {
    "name": "ipython",
    "version": 3
   },
   "file_extension": ".py",
   "mimetype": "text/x-python",
   "name": "python",
   "nbconvert_exporter": "python",
   "pygments_lexer": "ipython3",
   "version": "3.9.13"
  }
 },
 "nbformat": 4,
 "nbformat_minor": 5
}
