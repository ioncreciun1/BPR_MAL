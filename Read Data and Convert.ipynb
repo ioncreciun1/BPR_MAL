{
 "cells": [
  {
   "cell_type": "code",
   "execution_count": 1,
   "id": "17748e6f-6c4e-413f-b172-86834230db3b",
   "metadata": {},
   "outputs": [],
   "source": [
    "import pandas as pd"
   ]
  },
  {
   "cell_type": "code",
   "execution_count": 2,
   "id": "8de3e01a-deee-4abe-b56c-5d94cb77139c",
   "metadata": {},
   "outputs": [],
   "source": [
    "read_df = pd.read_json('testData.json',orient='index')"
   ]
  },
  {
   "cell_type": "code",
   "execution_count": 3,
   "id": "80014586-b9fc-4520-b2aa-cec9bd4ae991",
   "metadata": {},
   "outputs": [],
   "source": [
    "def get_removed_index_from_landmarks(right_hand,left_hand):\n",
    "    removed_indexes = []\n",
    "    for i in range(len(right_hand)):\n",
    "        if(len(right_hand) - len(removed_indexes) <=60):\n",
    "            break\n",
    "        if(right_hand[i] == None and left_hand[i] == None):\n",
    "            removed_indexes.append(i)\n",
    "    return removed_indexes\n",
    "\n",
    "def get_removed_index_from_world_landmarks(right_hand,left_hand):\n",
    "    removed_indexes = []\n",
    "    # print(len(right_hand))\n",
    "    for i in range(len(right_hand)):\n",
    "        \n",
    "        if(len(right_hand) - len(removed_indexes) <=60):\n",
    "            break\n",
    "        # print(i,right_hand[i][0] == None and left_hand[i][0] == None)\n",
    "        if(right_hand[i][0] == None and left_hand[i][0] == None):\n",
    "            removed_indexes.append(i)\n",
    "    return removed_indexes\n",
    "\n",
    "def convert_to_60_frames(data):\n",
    "    for item in data.iterrows():\n",
    "        # remove_indexes = get_removed_index_from_landmarks(item[1].RIGHT_HAND_LANDMARKS,item[1].LEFT_HAND_LANDMARKS)\n",
    "        # print(item)\n",
    "        world_remove_indexes = get_removed_index_from_world_landmarks(item[1].RIGHT_HAND_WORLD_LANDMARKS,item[1].LEFT_HAND_WORLD_LANDMARKS)\n",
    "\n",
    "        if(len(item[1].RIGHT_HAND_WORLD_LANDMARKS)<60):\n",
    "            current_length = len(item[1].RIGHT_HAND_WORLD_LANDMARKS)\n",
    "            for i in range(current_length,60):\n",
    "                item[1].RIGHT_HAND_WORLD_LANDMARKS.append([None])\n",
    "                item[1].LEFT_HAND_WORLD_LANDMARKS.append([None])\n",
    "                item[1].POSE_WORLD_LANDMARKS.append([None])\n",
    "\n",
    "        \n",
    "        for index in sorted(world_remove_indexes, reverse=True):\n",
    "            del item[1].RIGHT_HAND_WORLD_LANDMARKS[index]\n",
    "            del item[1].LEFT_HAND_WORLD_LANDMARKS[index]\n",
    "            del item[1].POSE_WORLD_LANDMARKS[index]\n",
    "            \n",
    "        if(len(item[1].RIGHT_HAND_WORLD_LANDMARKS)>60):\n",
    "            del item[1].RIGHT_HAND_WORLD_LANDMARKS[60:]\n",
    "            del item[1].LEFT_HAND_WORLD_LANDMARKS[60:]\n",
    "            del item[1].POSE_WORLD_LANDMARKS[60:]\n",
    "convert_to_60_frames(read_df)"
   ]
  },
  {
   "cell_type": "code",
   "execution_count": 4,
   "id": "0a0528fa-8729-4cfc-89ca-d41a4c067a32",
   "metadata": {},
   "outputs": [],
   "source": [
    "#Loop throug data\n",
    "sequences = []\n",
    "labels = []\n",
    "import numpy as np\n",
    "def extract_keypoints(pose_world_landmarks,right_hand_world_landmarks,left_hand_world_landmarks):\n",
    "    pose = np.array([[res['X'], res['Y']] for res in pose_world_landmarks]).flatten() if pose_world_landmarks[0] else np.zeros(12*2)\n",
    "    lh = np.array([[res['X'], res['Y'], res['Z']] for res in left_hand_world_landmarks ]).flatten() if left_hand_world_landmarks[0] else np.zeros(21*3)\n",
    "    rh = np.array([[res['X'], res['Y'], res['Z']] for res in right_hand_world_landmarks ]).flatten() if right_hand_world_landmarks[0] else np.zeros(21*3)\n",
    "    return np.concatenate([pose, lh, rh])\n",
    "\n",
    "def convert_world_to_2d_array(data):\n",
    "    for item in data.iterrows():\n",
    "        sequence = []\n",
    "        labels.append(item[1].Label)\n",
    "        for i in range(len(item[1].RIGHT_HAND_WORLD_LANDMARKS)):\n",
    "            # print(item[1].RIGHT_HAND_WORLD_LANDMARKS[i])\n",
    "            \n",
    "            points = extract_keypoints(item[1].POSE_WORLD_LANDMARKS[i],item[1].RIGHT_HAND_WORLD_LANDMARKS[i],item[1].LEFT_HAND_WORLD_LANDMARKS[i])\n",
    "            sequence.append(points)\n",
    "        sequences.append(sequence)\n",
    "convert_world_to_2d_array(read_df)\n",
    "#Convert to 2d array\n",
    "#Replace null with zeros\n",
    "#Take only X and Y from the pose and X Y and Z from the hands\n",
    "#Maybe add this for simple data not only world"
   ]
  },
  {
   "cell_type": "code",
   "execution_count": 5,
   "id": "3d7bbcd2-1f76-492f-8e17-8ada9e6d6ecc",
   "metadata": {},
   "outputs": [],
   "source": [
    "X = np.array(sequences)\n",
    "y = np.array(labels)"
   ]
  },
  {
   "cell_type": "code",
   "execution_count": null,
   "id": "b7f4f37d-aadd-4dee-bc60-6fca5036fc02",
   "metadata": {},
   "outputs": [],
   "source": []
  }
 ],
 "metadata": {
  "kernelspec": {
   "display_name": "Python 3 (ipykernel)",
   "language": "python",
   "name": "python3"
  },
  "language_info": {
   "codemirror_mode": {
    "name": "ipython",
    "version": 3
   },
   "file_extension": ".py",
   "mimetype": "text/x-python",
   "name": "python",
   "nbconvert_exporter": "python",
   "pygments_lexer": "ipython3",
   "version": "3.9.13"
  }
 },
 "nbformat": 4,
 "nbformat_minor": 5
}
