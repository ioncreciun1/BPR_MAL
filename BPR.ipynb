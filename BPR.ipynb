{
 "cells": [
  {
   "cell_type": "code",
   "execution_count": 1,
   "id": "8264daf4-cf0c-4cdf-b25a-b473cccc2f1f",
   "metadata": {},
   "outputs": [],
   "source": [
    "import mediapipe as mp\n"
   ]
  },
  {
   "cell_type": "code",
   "execution_count": 2,
   "id": "0dc2a148-787e-400a-a8cb-e6b03c76f30b",
   "metadata": {},
   "outputs": [],
   "source": [
    "mp_drawing = mp.solutions.drawing_utils\n",
    "mp_holistic = mp.solutions.holistic"
   ]
  },
  {
   "cell_type": "code",
   "execution_count": 3,
   "id": "2ff3d3c7-7e36-480a-ab53-4865cc3ddbd4",
   "metadata": {},
   "outputs": [],
   "source": [
    "def mediapipe_detection(image, model):\n",
    "    image = cv2.cvtColor(image, cv2.COLOR_BGR2RGB) # COLOR CONVERSION BGR to RGB\n",
    "    image.flags.writeable = False                  # Image is no longer writeable\n",
    "    results = model.process(image)                 # Make prediction\n",
    "    image.flags.writeable = True                   # Image is now writeable \n",
    "    image = cv2.cvtColor(image, cv2.COLOR_RGB2BGR) # COLOR COVERSION RGB 2 BGR\n",
    "    \n",
    "    # resize_up = cv2.resize(image, (800,512), interpolation= cv2.INTER_AREA)\n",
    "\n",
    "    return image, results"
   ]
  },
  {
   "cell_type": "code",
   "execution_count": 4,
   "id": "c5ee1d7f-b887-4c49-82b5-e9a8cc7e3374",
   "metadata": {},
   "outputs": [],
   "source": [
    "def draw_landmarks(image, results):\n",
    "    mp_drawing.draw_landmarks(image, results.pose_landmarks, mp_holistic.POSE_CONNECTIONS) # Draw pose connections\n",
    "    mp_drawing.draw_landmarks(image, results.left_hand_landmarks, mp_holistic.HAND_CONNECTIONS) # Draw left hand connections\n",
    "    mp_drawing.draw_landmarks(image, results.right_hand_landmarks, mp_holistic.HAND_CONNECTIONS) # Draw right hand connections"
   ]
  },
  {
   "cell_type": "code",
   "execution_count": 5,
   "id": "37da11a6-dbe3-4bfb-a13b-0198105a63d3",
   "metadata": {},
   "outputs": [],
   "source": [
    "def draw_styled_landmarks(image, results):\n",
    "    # Draw pose connections\n",
    "    mp_drawing.draw_landmarks(image, results.pose_landmarks, mp_holistic.POSE_CONNECTIONS,\n",
    "                             mp_drawing.DrawingSpec(color=(80,22,10), thickness=2, circle_radius=4), \n",
    "                             mp_drawing.DrawingSpec(color=(80,44,121), thickness=2, circle_radius=2)\n",
    "                             ) \n",
    "    # Draw left hand connections\n",
    "    mp_drawing.draw_landmarks(image, results.left_hand_landmarks, mp_holistic.HAND_CONNECTIONS, \n",
    "                             mp_drawing.DrawingSpec(color=(121,22,76), thickness=2, circle_radius=4), \n",
    "                             mp_drawing.DrawingSpec(color=(121,44,250), thickness=2, circle_radius=2)\n",
    "                             ) \n",
    "    # Draw right hand connections  \n",
    "    mp_drawing.draw_landmarks(image, results.right_hand_landmarks, mp_holistic.HAND_CONNECTIONS, \n",
    "                             mp_drawing.DrawingSpec(color=(245,117,66), thickness=2, circle_radius=4), \n",
    "                             mp_drawing.DrawingSpec(color=(245,66,230), thickness=2, circle_radius=2)\n",
    "                             ) "
   ]
  },
  {
   "cell_type": "code",
   "execution_count": null,
   "id": "f4317587-0466-4e20-85fa-ae4c4484ee85",
   "metadata": {},
   "outputs": [],
   "source": [
    "import cv2\n",
    "import time\n",
    "cap = cv2.VideoCapture(0)\n",
    "check_right = []\n",
    "check_left = []\n",
    "pose_world = []\n",
    "frame_c = 0\n",
    "frame = 0\n",
    "with mp_holistic.Holistic(min_detection_confidence=0.5, min_tracking_confidence=0.5) as holistic:\n",
    "    while(cap.isOpened()):\n",
    "        # Read feed\n",
    "        ret, frame = cap.read()\n",
    "        if ret==False:\n",
    "            cap = cv2.VideoCapture(\"01491.mp4\")\n",
    "        if(frame_c == 30):\n",
    "            check_right.clear()\n",
    "            check_left.clear()\n",
    "            pose_world.clear()\n",
    "            frame_c = 0\n",
    "        if ret == True:\n",
    "            frame_c = frame_c+1\n",
    "            # Make detections\n",
    "            image, results = mediapipe_detection(frame, holistic)\n",
    "            # # print(image)\n",
    "            # # print(results.face_landmarks)\n",
    "            # check_right.append(results.right_hand_landmarks)\n",
    "            # check_left.append(results.left_hand_landmarks)\n",
    "            # pose_world.append(results.pose_world_landmarks)\n",
    "            # Draw landmarks\n",
    "            draw_styled_landmarks(image, results)\n",
    "\n",
    "            # Show to screen\n",
    "            cv2.imshow('OpenCV Feed', image)\n",
    "            #time.sleep(2)\n",
    "\n",
    "        # Break gracefully\n",
    "        if cv2.waitKey(10) & 0xFF == ord('q'):\n",
    "            break"
   ]
  },
  {
   "cell_type": "code",
   "execution_count": 7,
   "id": "67800dc2-eefb-4b6b-9e0a-8cd14b242557",
   "metadata": {},
   "outputs": [],
   "source": [
    "# import numpy as np\n",
    "# # \n",
    "# check_right_t = list(filter(None,check_right))\n",
    "# len_check_rigt  = len(check_right)\n",
    "# # check_right_t = check_right.astype(float)\n",
    "# len(check_right_t),len_check_rigt"
   ]
  },
  {
   "cell_type": "code",
   "execution_count": 8,
   "id": "d4b90719-2579-4d7c-87c4-bc200e512e32",
   "metadata": {},
   "outputs": [],
   "source": [
    "# TO DO\n",
    "#ADD ALL DATA IN ONE file with the following format:\n",
    "#label,videoId,frames_per_second"
   ]
  },
  {
   "cell_type": "code",
   "execution_count": null,
   "id": "94d50900-6656-4154-b98c-e19ddcc7243d",
   "metadata": {},
   "outputs": [],
   "source": []
  }
 ],
 "metadata": {
  "kernelspec": {
   "display_name": "Python 3 (ipykernel)",
   "language": "python",
   "name": "python3"
  },
  "language_info": {
   "codemirror_mode": {
    "name": "ipython",
    "version": 3
   },
   "file_extension": ".py",
   "mimetype": "text/x-python",
   "name": "python",
   "nbconvert_exporter": "python",
   "pygments_lexer": "ipython3",
   "version": "3.9.13"
  }
 },
 "nbformat": 4,
 "nbformat_minor": 5
}
